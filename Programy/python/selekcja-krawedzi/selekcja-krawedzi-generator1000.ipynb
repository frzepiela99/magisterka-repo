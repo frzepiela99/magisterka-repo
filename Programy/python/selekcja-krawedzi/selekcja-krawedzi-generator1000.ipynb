{
 "cells": [
  {
   "cell_type": "code",
   "execution_count": 1,
   "id": "bb9f003b",
   "metadata": {},
   "outputs": [],
   "source": [
    "import random\n",
    "\n",
    "N = 1000\n",
    "M = 499500\n",
    "\n",
    "def main():\n",
    "    with open(\"edges1000.in\", \"w\") as dane:\n",
    "        dane.write(f\"{N} {M}\\n\")\n",
    "        random.seed(1)\n",
    "        for i in range(1, N + 1):\n",
    "            for j in range(i + 1, N + 1):\n",
    "                weight = random.randint(1, 999)\n",
    "                dane.write(f\"{i} {j} {weight}\\n\")\n",
    "\n",
    "if __name__ == \"__main__\":\n",
    "    main()\n"
   ]
  }
 ],
 "metadata": {
  "kernelspec": {
   "display_name": "Python 3",
   "language": "python",
   "name": "python3"
  },
  "language_info": {
   "codemirror_mode": {
    "name": "ipython",
    "version": 3
   },
   "file_extension": ".py",
   "mimetype": "text/x-python",
   "name": "python",
   "nbconvert_exporter": "python",
   "pygments_lexer": "ipython3",
   "version": "3.10.8"
  }
 },
 "nbformat": 4,
 "nbformat_minor": 5
}
