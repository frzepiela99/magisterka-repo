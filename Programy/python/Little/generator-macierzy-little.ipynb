{
 "cells": [
  {
   "cell_type": "code",
   "execution_count": 1,
   "id": "a92032a6",
   "metadata": {},
   "outputs": [
    {
     "name": "stdout",
     "output_type": "stream",
     "text": [
      "Podaj rozmiar macierzy: 4\n",
      "Podaj minimalną wartość wagi krawędzi: 10\n",
      "Podaj maksymalną wartość wagi krawędzi: 70\n",
      "Podaj nazwę pliku, do którego zapisać macierz: test.txt\n",
      "Macierz została wygenerowana i zapisana do pliku test.txt\n"
     ]
    }
   ],
   "source": [
    "import random\n",
    "import time\n",
    "\n",
    "INF = 999999  # Używamy 999999 do oznaczania nieskończoności\n",
    "\n",
    "def generate_random_matrix(size, min_value, max_value, filename):\n",
    "    try:\n",
    "        with open(filename, 'w') as file:\n",
    "            file.write(f\"{size}\\n\")\n",
    "            for i in range(size):\n",
    "                for j in range(size):\n",
    "                    if i == j:\n",
    "                        file.write(f\"{INF}\")\n",
    "                    else:\n",
    "                        weight = random.randint(min_value, max_value)\n",
    "                        file.write(f\"{weight}\")\n",
    "                    if j < size - 1:\n",
    "                        file.write(\" \")\n",
    "                file.write(\"\\n\")\n",
    "    except IOError:\n",
    "        print(\"Nie można otworzyć pliku!\")\n",
    "        exit(1)\n",
    "\n",
    "def main():\n",
    "    random.seed(time.time())\n",
    "\n",
    "    size = int(input(\"Podaj rozmiar macierzy: \"))\n",
    "    min_value = int(input(\"Podaj minimalną wartość wagi krawędzi: \"))\n",
    "    max_value = int(input(\"Podaj maksymalną wartość wagi krawędzi: \"))\n",
    "    filename = input(\"Podaj nazwę pliku, do którego zapisać macierz: \")\n",
    "\n",
    "    generate_random_matrix(size, min_value, max_value, filename)\n",
    "\n",
    "    print(f\"Macierz została wygenerowana i zapisana do pliku {filename}\")\n",
    "\n",
    "if __name__ == \"__main__\":\n",
    "    main()\n"
   ]
  },
  {
   "cell_type": "code",
   "execution_count": null,
   "id": "2bede72c",
   "metadata": {},
   "outputs": [],
   "source": []
  }
 ],
 "metadata": {
  "kernelspec": {
   "display_name": "Python 3",
   "language": "python",
   "name": "python3"
  },
  "language_info": {
   "codemirror_mode": {
    "name": "ipython",
    "version": 3
   },
   "file_extension": ".py",
   "mimetype": "text/x-python",
   "name": "python",
   "nbconvert_exporter": "python",
   "pygments_lexer": "ipython3",
   "version": "3.10.8"
  }
 },
 "nbformat": 4,
 "nbformat_minor": 5
}
